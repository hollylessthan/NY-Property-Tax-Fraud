{
 "cells": [
  {
   "cell_type": "code",
   "execution_count": 1,
   "id": "brutal-baker",
   "metadata": {},
   "outputs": [],
   "source": [
    "import pandas as pd\n",
    "import numpy as np\n",
    "import seaborn as sns\n",
    "import matplotlib.pyplot as plt"
   ]
  },
  {
   "cell_type": "code",
   "execution_count": 2,
   "id": "weekly-crossing",
   "metadata": {},
   "outputs": [
    {
     "data": {
      "text/html": [
       "<div>\n",
       "<style scoped>\n",
       "    .dataframe tbody tr th:only-of-type {\n",
       "        vertical-align: middle;\n",
       "    }\n",
       "\n",
       "    .dataframe tbody tr th {\n",
       "        vertical-align: top;\n",
       "    }\n",
       "\n",
       "    .dataframe thead th {\n",
       "        text-align: right;\n",
       "    }\n",
       "</style>\n",
       "<table border=\"1\" class=\"dataframe\">\n",
       "  <thead>\n",
       "    <tr style=\"text-align: right;\">\n",
       "      <th></th>\n",
       "      <th>RECORD</th>\n",
       "      <th>BBLE</th>\n",
       "      <th>B</th>\n",
       "      <th>BLOCK</th>\n",
       "      <th>LOT</th>\n",
       "      <th>EASEMENT</th>\n",
       "      <th>OWNER</th>\n",
       "      <th>BLDGCL</th>\n",
       "      <th>TAXCLASS</th>\n",
       "      <th>LTFRONT</th>\n",
       "      <th>...</th>\n",
       "      <th>BLDFRONT</th>\n",
       "      <th>BLDDEPTH</th>\n",
       "      <th>AVLAND2</th>\n",
       "      <th>AVTOT2</th>\n",
       "      <th>EXLAND2</th>\n",
       "      <th>EXTOT2</th>\n",
       "      <th>EXCD2</th>\n",
       "      <th>PERIOD</th>\n",
       "      <th>YEAR</th>\n",
       "      <th>VALTYPE</th>\n",
       "    </tr>\n",
       "  </thead>\n",
       "  <tbody>\n",
       "    <tr>\n",
       "      <th>0</th>\n",
       "      <td>1</td>\n",
       "      <td>1000010101</td>\n",
       "      <td>1</td>\n",
       "      <td>1</td>\n",
       "      <td>101</td>\n",
       "      <td>NaN</td>\n",
       "      <td>U S GOVT LAND &amp; BLDGS</td>\n",
       "      <td>P7</td>\n",
       "      <td>4</td>\n",
       "      <td>500</td>\n",
       "      <td>...</td>\n",
       "      <td>0</td>\n",
       "      <td>0</td>\n",
       "      <td>3775500.0</td>\n",
       "      <td>8613000.0</td>\n",
       "      <td>3775500.0</td>\n",
       "      <td>8613000.0</td>\n",
       "      <td>NaN</td>\n",
       "      <td>FINAL</td>\n",
       "      <td>2010/11</td>\n",
       "      <td>AC-TR</td>\n",
       "    </tr>\n",
       "    <tr>\n",
       "      <th>1</th>\n",
       "      <td>2</td>\n",
       "      <td>1000010201</td>\n",
       "      <td>1</td>\n",
       "      <td>1</td>\n",
       "      <td>201</td>\n",
       "      <td>NaN</td>\n",
       "      <td>U S GOVT LAND &amp; BLDGS</td>\n",
       "      <td>Z9</td>\n",
       "      <td>4</td>\n",
       "      <td>27</td>\n",
       "      <td>...</td>\n",
       "      <td>0</td>\n",
       "      <td>0</td>\n",
       "      <td>11111400.0</td>\n",
       "      <td>80690400.0</td>\n",
       "      <td>11111400.0</td>\n",
       "      <td>80690400.0</td>\n",
       "      <td>NaN</td>\n",
       "      <td>FINAL</td>\n",
       "      <td>2010/11</td>\n",
       "      <td>AC-TR</td>\n",
       "    </tr>\n",
       "    <tr>\n",
       "      <th>2</th>\n",
       "      <td>3</td>\n",
       "      <td>1000020001</td>\n",
       "      <td>1</td>\n",
       "      <td>2</td>\n",
       "      <td>1</td>\n",
       "      <td>NaN</td>\n",
       "      <td>DEPT OF GENERAL SERVI</td>\n",
       "      <td>Y7</td>\n",
       "      <td>4</td>\n",
       "      <td>709</td>\n",
       "      <td>...</td>\n",
       "      <td>709</td>\n",
       "      <td>564</td>\n",
       "      <td>32321790.0</td>\n",
       "      <td>40179510.0</td>\n",
       "      <td>32321790.0</td>\n",
       "      <td>40179510.0</td>\n",
       "      <td>NaN</td>\n",
       "      <td>FINAL</td>\n",
       "      <td>2010/11</td>\n",
       "      <td>AC-TR</td>\n",
       "    </tr>\n",
       "    <tr>\n",
       "      <th>3</th>\n",
       "      <td>4</td>\n",
       "      <td>1000020023</td>\n",
       "      <td>1</td>\n",
       "      <td>2</td>\n",
       "      <td>23</td>\n",
       "      <td>NaN</td>\n",
       "      <td>DEPARTMENT OF BUSINES</td>\n",
       "      <td>T2</td>\n",
       "      <td>4</td>\n",
       "      <td>793</td>\n",
       "      <td>...</td>\n",
       "      <td>85</td>\n",
       "      <td>551</td>\n",
       "      <td>13644000.0</td>\n",
       "      <td>15750000.0</td>\n",
       "      <td>13644000.0</td>\n",
       "      <td>15750000.0</td>\n",
       "      <td>NaN</td>\n",
       "      <td>FINAL</td>\n",
       "      <td>2010/11</td>\n",
       "      <td>AC-TR</td>\n",
       "    </tr>\n",
       "    <tr>\n",
       "      <th>4</th>\n",
       "      <td>5</td>\n",
       "      <td>1000030001</td>\n",
       "      <td>1</td>\n",
       "      <td>3</td>\n",
       "      <td>1</td>\n",
       "      <td>NaN</td>\n",
       "      <td>PARKS AND RECREATION</td>\n",
       "      <td>Q1</td>\n",
       "      <td>4</td>\n",
       "      <td>323</td>\n",
       "      <td>...</td>\n",
       "      <td>89</td>\n",
       "      <td>57</td>\n",
       "      <td>106348680.0</td>\n",
       "      <td>107758350.0</td>\n",
       "      <td>106348680.0</td>\n",
       "      <td>107758350.0</td>\n",
       "      <td>NaN</td>\n",
       "      <td>FINAL</td>\n",
       "      <td>2010/11</td>\n",
       "      <td>AC-TR</td>\n",
       "    </tr>\n",
       "  </tbody>\n",
       "</table>\n",
       "<p>5 rows × 32 columns</p>\n",
       "</div>"
      ],
      "text/plain": [
       "   RECORD        BBLE  B  BLOCK  LOT EASEMENT                  OWNER BLDGCL  \\\n",
       "0       1  1000010101  1      1  101      NaN  U S GOVT LAND & BLDGS     P7   \n",
       "1       2  1000010201  1      1  201      NaN  U S GOVT LAND & BLDGS     Z9   \n",
       "2       3  1000020001  1      2    1      NaN  DEPT OF GENERAL SERVI     Y7   \n",
       "3       4  1000020023  1      2   23      NaN  DEPARTMENT OF BUSINES     T2   \n",
       "4       5  1000030001  1      3    1      NaN   PARKS AND RECREATION     Q1   \n",
       "\n",
       "  TAXCLASS  LTFRONT  ...  BLDFRONT BLDDEPTH      AVLAND2       AVTOT2  \\\n",
       "0        4      500  ...         0        0    3775500.0    8613000.0   \n",
       "1        4       27  ...         0        0   11111400.0   80690400.0   \n",
       "2        4      709  ...       709      564   32321790.0   40179510.0   \n",
       "3        4      793  ...        85      551   13644000.0   15750000.0   \n",
       "4        4      323  ...        89       57  106348680.0  107758350.0   \n",
       "\n",
       "       EXLAND2       EXTOT2  EXCD2  PERIOD     YEAR VALTYPE  \n",
       "0    3775500.0    8613000.0    NaN   FINAL  2010/11   AC-TR  \n",
       "1   11111400.0   80690400.0    NaN   FINAL  2010/11   AC-TR  \n",
       "2   32321790.0   40179510.0    NaN   FINAL  2010/11   AC-TR  \n",
       "3   13644000.0   15750000.0    NaN   FINAL  2010/11   AC-TR  \n",
       "4  106348680.0  107758350.0    NaN   FINAL  2010/11   AC-TR  \n",
       "\n",
       "[5 rows x 32 columns]"
      ]
     },
     "execution_count": 2,
     "metadata": {},
     "output_type": "execute_result"
    }
   ],
   "source": [
    "df = pd.read_csv(\"NY property data.csv\")\n",
    "df.head()"
   ]
  },
  {
   "cell_type": "code",
   "execution_count": 3,
   "id": "amazing-guatemala",
   "metadata": {},
   "outputs": [
    {
     "name": "stdout",
     "output_type": "stream",
     "text": [
      "<class 'pandas.core.frame.DataFrame'>\n",
      "RangeIndex: 1070994 entries, 0 to 1070993\n",
      "Data columns (total 32 columns):\n",
      " #   Column    Non-Null Count    Dtype  \n",
      "---  ------    --------------    -----  \n",
      " 0   RECORD    1070994 non-null  int64  \n",
      " 1   BBLE      1070994 non-null  object \n",
      " 2   B         1070994 non-null  int64  \n",
      " 3   BLOCK     1070994 non-null  int64  \n",
      " 4   LOT       1070994 non-null  int64  \n",
      " 5   EASEMENT  4636 non-null     object \n",
      " 6   OWNER     1039249 non-null  object \n",
      " 7   BLDGCL    1070994 non-null  object \n",
      " 8   TAXCLASS  1070994 non-null  object \n",
      " 9   LTFRONT   1070994 non-null  int64  \n",
      " 10  LTDEPTH   1070994 non-null  int64  \n",
      " 11  EXT       354305 non-null   object \n",
      " 12  STORIES   1014730 non-null  float64\n",
      " 13  FULLVAL   1070994 non-null  float64\n",
      " 14  AVLAND    1070994 non-null  float64\n",
      " 15  AVTOT     1070994 non-null  float64\n",
      " 16  EXLAND    1070994 non-null  float64\n",
      " 17  EXTOT     1070994 non-null  float64\n",
      " 18  EXCD1     638488 non-null   float64\n",
      " 19  STADDR    1070318 non-null  object \n",
      " 20  ZIP       1041104 non-null  float64\n",
      " 21  EXMPTCL   15579 non-null    object \n",
      " 22  BLDFRONT  1070994 non-null  int64  \n",
      " 23  BLDDEPTH  1070994 non-null  int64  \n",
      " 24  AVLAND2   282726 non-null   float64\n",
      " 25  AVTOT2    282732 non-null   float64\n",
      " 26  EXLAND2   87449 non-null    float64\n",
      " 27  EXTOT2    130828 non-null   float64\n",
      " 28  EXCD2     92948 non-null    float64\n",
      " 29  PERIOD    1070994 non-null  object \n",
      " 30  YEAR      1070994 non-null  object \n",
      " 31  VALTYPE   1070994 non-null  object \n",
      "dtypes: float64(13), int64(8), object(11)\n",
      "memory usage: 261.5+ MB\n"
     ]
    }
   ],
   "source": [
    "df.info()"
   ]
  },
  {
   "cell_type": "markdown",
   "id": "stretch-memorabilia",
   "metadata": {},
   "source": [
    "### Categorical field"
   ]
  },
  {
   "cell_type": "code",
   "execution_count": 247,
   "id": "brutal-particle",
   "metadata": {},
   "outputs": [
    {
     "data": {
      "text/plain": [
       "VALTYPE\n",
       "AC-TR    1070994\n",
       "Name: RECORD, dtype: int64"
      ]
     },
     "execution_count": 247,
     "metadata": {},
     "output_type": "execute_result"
    }
   ],
   "source": [
    "ccol = 'VALTYPE'\n",
    "# n of unique\n",
    "df.groupby(ccol).count()['RECORD'].sort_values(ascending=False)"
   ]
  },
  {
   "cell_type": "code",
   "execution_count": 248,
   "id": "pressed-google",
   "metadata": {},
   "outputs": [
    {
     "name": "stdout",
     "output_type": "stream",
     "text": [
      "unique:  1\n"
     ]
    }
   ],
   "source": [
    "#unique\n",
    "print('unique: ', df[ccol].nunique())"
   ]
  },
  {
   "cell_type": "code",
   "execution_count": 143,
   "id": "alert-particular",
   "metadata": {},
   "outputs": [],
   "source": [
    "#df[ccol].sort_values(ascending=False)"
   ]
  },
  {
   "cell_type": "code",
   "execution_count": 239,
   "id": "stone-voltage",
   "metadata": {},
   "outputs": [],
   "source": [
    "# extract head\n",
    "head = 30\n",
    "\n",
    "blc30 = df.groupby(ccol).count()['RECORD'].sort_values(ascending=False).head(head).reset_index()[ccol]\n",
    "df_head = df[df[ccol].isin(blc30)]\n"
   ]
  },
  {
   "cell_type": "code",
   "execution_count": 242,
   "id": "peripheral-argentina",
   "metadata": {},
   "outputs": [
    {
     "data": {
      "image/png": "[encoded data removed]",
      "text/plain": [
       "<Figure size 432x288 with 1 Axes>"
      ]
     },
     "metadata": {
      "needs_background": "light"
     },
     "output_type": "display_data"
    }
   ],
   "source": [
    "g = sns.set_color_codes(\"deep\")\n",
    "g = sns.countplot(x=ccol, data=df_head, color='b',order=df_head[ccol].value_counts().index)\n",
    "plt.xticks(rotation=90)\n",
    "g.set_yscale('log')\n",
    "#plt.show()\n",
    "plt.savefig(ccol+'.png', bbox_inches='tight')"
   ]
  },
  {
   "cell_type": "code",
   "execution_count": 39,
   "id": "dominant-expert",
   "metadata": {},
   "outputs": [],
   "source": [
    "cat = ['RECORD', 'BBLE', 'B', 'BLOCK', 'LOT', 'EASEMENT', 'OWNER', 'BLDGCL', 'TAXCLASS', 'EXT', \n",
    "       'ZIP', 'EXCD1', 'STADDR', 'EXMPTCL', 'EXCD2', 'PERIOD', 'YEAR', 'VALTYPE']\n",
    "df[cat] = pd.Categorical(df[cat])"
   ]
  },
  {
   "cell_type": "markdown",
   "id": "million-triangle",
   "metadata": {},
   "source": [
    "### Numeric fields"
   ]
  },
  {
   "cell_type": "code",
   "execution_count": 188,
   "id": "persistent-think",
   "metadata": {},
   "outputs": [
    {
     "name": "stdout",
     "output_type": "stream",
     "text": [
      "unique:  48348\n",
      "mean:  656768.28\n",
      "std:  16072510.17\n",
      "min:  7.0\n",
      "max:  4501180002.0\n",
      "zero:  0\n"
     ]
    }
   ],
   "source": [
    "ncol = 'EXTOT2'\n",
    "print('unique: ', df[ncol].nunique())\n",
    "print('mean: ', round(df[ncol].mean(),2))\n",
    "print('std: ', round(df[ncol].std(), 2))\n",
    "print('min: ', df[ncol].min())\n",
    "print('max: ', df[ncol].max())\n",
    "print('zero: ', np.sum(df[ncol] == 0))"
   ]
  },
  {
   "cell_type": "code",
   "execution_count": 235,
   "id": "polar-suspension",
   "metadata": {},
   "outputs": [
    {
     "name": "stdout",
     "output_type": "stream",
     "text": [
      "% populated:  99.9\n"
     ]
    }
   ],
   "source": [
    "#without outlier\n",
    "wo_df = df[df[ncol] <=60000000]\n",
    "print('% populated: ', round((len(wo_df)/sum(df[ncol].notnull()))*100, 2))"
   ]
  },
  {
   "cell_type": "code",
   "execution_count": 236,
   "id": "ceramic-resident",
   "metadata": {},
   "outputs": [
    {
     "name": "stderr",
     "output_type": "stream",
     "text": [
      "/usr/local/lib/python3.8/dist-packages/seaborn/distributions.py:2557: FutureWarning: `distplot` is a deprecated function and will be removed in a future version. Please adapt your code to use either `displot` (a figure-level function with similar flexibility) or `histplot` (an axes-level function for histograms).\n",
      "  warnings.warn(msg, FutureWarning)\n"
     ]
    },
    {
     "data": {
      "image/png": "[encoded data removed]",
      "text/plain": [
       "<Figure size 432x288 with 1 Axes>"
      ]
     },
     "metadata": {
      "needs_background": "light"
     },
     "output_type": "display_data"
    }
   ],
   "source": [
    "g = sns.set_color_codes(\"deep\")\n",
    "g = sns.distplot(wo_df[ncol], color='b')\n",
    "#plt.xticks(rotation=90)\n",
    "g.set_yscale('log')\n",
    "#plt.show()\n",
    "plt.savefig(ncol+'.png', bbox_inches='tight')"
   ]
  },
  {
   "cell_type": "code",
   "execution_count": 168,
   "id": "sound-avenue",
   "metadata": {},
   "outputs": [
    {
     "data": {
      "text/plain": [
       "8399       6414\n",
       "14507       982\n",
       "14971      5614\n",
       "15605      1394\n",
       "33488       810\n",
       "33549      1227\n",
       "56080      1362\n",
       "95089       870\n",
       "110017     3100\n",
       "111419     7575\n",
       "111425     7538\n",
       "120211      961\n",
       "151969      845\n",
       "152049      841\n",
       "162904     1943\n",
       "176315     1844\n",
       "176386     1844\n",
       "188020      900\n",
       "206742     1000\n",
       "235411     1000\n",
       "235452      805\n",
       "269397     1169\n",
       "282643     6020\n",
       "294888     5518\n",
       "319776      825\n",
       "333411     4017\n",
       "334491     2025\n",
       "334665     3285\n",
       "376945      834\n",
       "443259     4149\n",
       "450534     1160\n",
       "576770      839\n",
       "590739     1225\n",
       "605848      911\n",
       "648260     2030\n",
       "658932     2500\n",
       "682937     1102\n",
       "698306     1280\n",
       "698544      815\n",
       "756526     1925\n",
       "930567      840\n",
       "956519     1812\n",
       "973848      875\n",
       "1015418     880\n",
       "1061703    1818\n",
       "Name: BLDFRONT, dtype: int64"
      ]
     },
     "execution_count": 168,
     "metadata": {},
     "output_type": "execute_result"
    }
   ],
   "source": [
    "df[df[ncol] >800][ncol]\n"
   ]
  },
  {
   "cell_type": "code",
   "execution_count": null,
   "id": "approved-healing",
   "metadata": {},
   "outputs": [],
   "source": []
  }
 ],
 "metadata": {
  "kernelspec": {
   "display_name": "Python 3",
   "language": "python",
   "name": "python3"
  },
  "language_info": {
   "codemirror_mode": {
    "name": "ipython",
    "version": 3
   },
   "file_extension": ".py",
   "mimetype": "text/x-python",
   "name": "python",
   "nbconvert_exporter": "python",
   "pygments_lexer": "ipython3",
   "version": "3.8.5"
  }
 },
 "nbformat": 4,
 "nbformat_minor": 5
}
